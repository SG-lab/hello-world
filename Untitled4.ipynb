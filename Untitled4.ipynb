{
  "nbformat": 4,
  "nbformat_minor": 0,
  "metadata": {
    "colab": {
      "name": "Untitled3.ipynb",
      "provenance": [],
      "authorship_tag": "ABX9TyPXMgHX3LmzhzqqZwnP1Voj",
      "include_colab_link": true
    },
    "kernelspec": {
      "name": "python3",
      "display_name": "Python 3"
    }
  },
  "cells": [
    {
      "cell_type": "markdown",
      "metadata": {
        "id": "view-in-github",
        "colab_type": "text"
      },
      "source": [
        "<a href=\"https://colab.research.google.com/github/SG-lab/hello-world/blob/master/Untitled4.ipynb\" target=\"_parent\"><img src=\"https://colab.research.google.com/assets/colab-badge.svg\" alt=\"Open In Colab\"/></a>"
      ]
    },
    {
      "cell_type": "code",
      "metadata": {
        "id": "3LxeKil7BrJh",
        "colab_type": "code",
        "colab": {
          "base_uri": "https://localhost:8080/",
          "height": 911
        },
        "outputId": "89e76266-5ebe-4f46-e925-949303c4e473"
      },
      "source": [
        "import numpy as np\n",
        "import matplotlib.pyplot as plt\n",
        "\n",
        "xi=np.array([[0],[1],[2],[3],[4],[5]])\n",
        "yi=np.array([[-3],[-2.9],[4.3],[-0.7],[-1.7],[-1.4]])\n",
        "\n",
        "a=np.ones((4,1))\n",
        "\n",
        "#matrice M---------------\n",
        "M=np.zeros((6,4))\n",
        "M[:,0]=1\n",
        "for i in range(0,6):\n",
        "  for j in range(1,4):\n",
        "        M[i,j]= xi[i]**j\n",
        "#-----------------------\n",
        "\n",
        "A=M.T.dot(M)\n",
        "\n",
        "b=M.T.dot(yi)\n",
        "\n",
        "c=0.5*(np.linalg.norm(yi,2)**2)\n",
        "\n",
        "def grad(AA,bb,x):\n",
        "  return AA.dot(x)-bb\n",
        "\n",
        "\n",
        "def GradConj(x0=a,A=A,b=b,gradient=grad,tol=1e-10,itermax=10000):\n",
        "    \"\"\"\n",
        "    Algorithme de minimisation du gradient conjugué pour une fonction quadratique\n",
        "    de N variables réelles et à valeur réelle définie par :\n",
        "    f(x_1,...,x_N)=(1/2)*x^T.A.x - x^T.b + c\n",
        "    où x^T représente la transposée du vecteur x.\n",
        "\n",
        "    Entrées :\n",
        "        * x0 : tableau numpy de dimension (N,1) ; vecteur d'initialisation de\n",
        "                l'algorithme.\n",
        "        * A : tableau numpy de dimension (N,N) ; élément de définition de la\n",
        "                fonction quadratique f.\n",
        "        * b : tableau numpy de dimension (N,1) ; élément de définition de la\n",
        "                fonction quadratique f.\n",
        "        * gradient : fonction python (GradFonc par défaut) calculant le vecteur\n",
        "            gradient de la fonction f.\n",
        "        * tol : réel (1.0e-10 par défaut); valeur du critère d'arrêt de\n",
        "                l'algorithme.\n",
        "        * itermax : entier (1000 par défaut) ; nombre d'itérations maximal de\n",
        "                l'algorithme.\n",
        "       \n",
        "    Sorties :\n",
        "        * liste python comportant toutes les solutions x_k issues de\n",
        "            l'algorithme.\n",
        "    \"\"\"\n",
        "    #***** Initialisation *****    \n",
        "    k=0\n",
        "    xx=list([x0])\n",
        "    dir=-gradient(A,b,xx[-1])\n",
        "    residu=[np.linalg.norm(gradient(A,b,xx[-1]),2)]\n",
        "    while (k<=itermax and residu[-1]>=tol):\n",
        "      #calcul du pas \n",
        "      rho=-np.vdot(gradient(A,b,xx[-1]),dir)/np.vdot(A.dot(dir).T,dir) #-np.vdot(gradient(A,b,xx[-1]),np.vdot(np.dot(A,dir),dir)) \n",
        "      \n",
        "      # nouveau vecteur x(k+1)\n",
        "      xx.append(xx[-1]+rho*dir)\n",
        "\n",
        "      # nouvelle direction de descente d(x+1)\n",
        "      beta= np.vdot(A.dot(gradient(A,b,xx[-1])).T,dir)/np.vdot(A.dot(dir).T,dir)\n",
        "      dir=-gradient(A,b,xx[-1]) + beta*dir\n",
        "\n",
        "      # Calcul du residu\n",
        "      residu.append(np.linalg.norm(gradient(A,b,xx[-1]),2))\n",
        "      \n",
        "      # nouvelle itération\n",
        "      k=k+1\n",
        "      print(k)\n",
        "    return xx,residu\n",
        "\n",
        "repa,repres=GradConj()\n",
        "\n",
        "print (\"le vecteur finale \\'a\\' est : \\n\", repa[-1])\n",
        "\n",
        "print(\"\\n\")\n",
        "\n",
        "print(\"le résidu final vaut: \",repres[-1])\n",
        "\n",
        "print(\"On peut observer la convergence de la solution  et visualiser la solution que l'on trouve \\n\")\n",
        "print(\"\\n\")\n",
        "plt.figure(1)\n",
        "plt.plot(repres)\n",
        "plt.xlabel('Itération')\n",
        "plt.ylabel('Résidus')\n",
        "plt.title('Étude de convergence')\n",
        "\n",
        "print(\"On peut aussi visualiser la régression : \\n\")\n",
        "plt.figure(2)\n",
        "plt.scatter(xi,yi,color='r')\n",
        "t=np.linspace(0,5,100)\n",
        "plt.plot(t,x[-1][0]+x[-1][1]*t+x[-1][2]*t**2+x[-1][3]*t**3,label='Courbe de régression polynomiale')\n",
        "plt.grid('-')\n",
        "plt.xlabel('x')\n",
        "plt.ylabel('y')\n",
        "plt.title('Visualitation de la régression au sens des moindres carrés')\n",
        "plt.legend()\n"
      ],
      "execution_count": 111,
      "outputs": [
        {
          "output_type": "stream",
          "text": [
            "1\n",
            "2\n",
            "3\n",
            "4\n",
            "5\n",
            "le vecteur finale 'a' est : \n",
            " [[-3.80873016]\n",
            " [ 5.51415344]\n",
            " [-1.92896825]\n",
            " [ 0.18148148]]\n",
            "\n",
            "\n",
            "le résidu final vaut:  2.7515891824277747e-11\n",
            "On peut observer la convergence de la solution  et visualiser la solution que l'on trouve \n",
            "\n",
            "\n",
            "\n",
            "On peut aussi visualiser la régression : \n",
            "\n"
          ],
          "name": "stdout"
        },
        {
          "output_type": "execute_result",
          "data": {
            "text/plain": [
              "<matplotlib.legend.Legend at 0x7f43672bf470>"
            ]
          },
          "metadata": {
            "tags": []
          },
          "execution_count": 111
        },
        {
          "output_type": "display_data",
          "data": {
            "image/png": "[encoded data removed]",
            "text/plain": [
              "<Figure size 432x288 with 1 Axes>"
            ]
          },
          "metadata": {
            "tags": [],
            "needs_background": "light"
          }
        },
        {
          "output_type": "display_data",
          "data": {
            "image/png": "[encoded data removed]",
            "text/plain": [
              "<Figure size 432x288 with 1 Axes>"
            ]
          },
          "metadata": {
            "tags": [],
            "needs_background": "light"
          }
        }
      ]
    }
  ]
}