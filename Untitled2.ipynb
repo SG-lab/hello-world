{
  "nbformat": 4,
  "nbformat_minor": 0,
  "metadata": {
    "colab": {
      "name": "Untitled2.ipynb",
      "provenance": [],
      "collapsed_sections": [],
      "authorship_tag": "ABX9TyOs90K92Vq/RQaQEX/6nHFq",
      "include_colab_link": true
    },
    "kernelspec": {
      "name": "python3",
      "display_name": "Python 3"
    }
  },
  "cells": [
    {
      "cell_type": "markdown",
      "metadata": {
        "id": "view-in-github",
        "colab_type": "text"
      },
      "source": [
        "<a href=\"https://colab.research.google.com/github/SG-lab/hello-world/blob/master/Untitled2.ipynb\" target=\"_parent\"><img src=\"https://colab.research.google.com/assets/colab-badge.svg\" alt=\"Open In Colab\"/></a>"
      ]
    },
    {
      "cell_type": "markdown",
      "metadata": {
        "id": "tGA4Gu8EFzO6",
        "colab_type": "text"
      },
      "source": [
        "${X_i}_{\\{i=1,...,N=6\\}}$ : Position X des villes \\\\\n",
        "\n",
        "${Y_i}_{\\{i=1,...,N=6\\}}$ : Position Y des villes\n",
        "\n",
        "On cherche la position $\\mathbf{x} = (x_1,x_2)^T$ telle que la somme des distances des villes à ce point soit minimale. Ainsi, on veut minimiser :\n",
        "\n",
        "\\begin{equation}\n",
        "  f(\\mathbf{x})=\\sum_{i=1}^{i=N=6}(X_i-x_1)^2+(Y_i-x_2)^2\n",
        "\\end{equation}\n",
        "\n",
        "En développant, il vient :\n",
        "\\begin{equation}\n",
        "  f(\\mathbf{x})=6{x_1}^2+6{x_2}^2-2x_1\\sum_{i=1}^{i=N=6}{X_i}-2x_2\\sum_{i=1}^{i=N=6}{Y_i}+\\sum_{i=1}^{i=N=6}{X_i}^2+\\sum_{i=1}^{i=N=6}{Y_i}^2\n",
        "\\end{equation}\n",
        "\n",
        "Par identification, on a : \n",
        "$$  \n",
        "A =\\begin{pmatrix} \n",
        "    2N      & 0  \\\\\n",
        "    0      & 2N  \\\\\n",
        "\\end{pmatrix}\n",
        "$$\n",
        "\n",
        "$$\n",
        "\\mathbf{b} =\n",
        "\\begin{pmatrix} \n",
        "    -2\\sum_{i=1}^{i=N=6}{X_i}  \\\\\n",
        "    -2\\sum_{i=1}^{i=N=6}{Y_i}  \\\\\n",
        "\\end{pmatrix}\n",
        "$$\n",
        "\n",
        "$$\n",
        "\\small{c = \\sum_{i=1}^{i=N=6}{X_i}^2+\\sum_{i=1}^{i=N=6}{Y_i}^2}\n",
        "$$\n",
        "---\n",
        "\n",
        "Ainsi, la fonctionnelle quadratique s'écrit :\n",
        "$$\n",
        "  f(\\mathbf{x})= \\frac{1}{2}\\begin{pmatrix} \n",
        "    x_1  & x_2\n",
        "\\end{pmatrix}\\color{red}{\\begin{pmatrix} \n",
        "    12      & 0  \\\\\n",
        "    0      & 12  \\\\\n",
        "\\end{pmatrix}}\\begin{pmatrix} \n",
        "    x_1  \\\\\n",
        "    x_2  \\\\\n",
        "\\end{pmatrix} +\\color{red}{\\begin{pmatrix} \n",
        "    -2\\sum_{i=1}^{i=N=6}{X_i} & -2\\sum_{i=1}^{i=N=6}{Y_i}\\\\\n",
        "\\end{pmatrix}}\\begin{pmatrix} \n",
        "    x_1  \\\\\n",
        "    x_2  \\\\\n",
        "\\end{pmatrix} + \\color{red}{\\sum_{i=1}^{i=N=6}{X_i}^2+\\sum_{i=1}^{i=N=6}{Y_i}^2}\n",
        "$$\n",
        "\n",
        "Le problème est maintenant bien défini, il n'y a plus qu'a codé (code ci-après). \n",
        "On rappelle à titre indicatif que, comme il s'agit d'une fonctionnelle quadratique, le gradient vaut : $Ax-b$\n"
      ]
    },
    {
      "cell_type": "code",
      "metadata": {
        "id": "EcaPOaE0kPJH",
        "colab_type": "code",
        "colab": {
          "base_uri": "https://localhost:8080/",
          "height": 594
        },
        "cellView": "code",
        "outputId": "40f258fe-3465-4e6e-9112-549071a517b3"
      },
      "source": [
        "import numpy as np\n",
        "import matplotlib.pyplot as plt\n",
        "\n",
        "\"\"\"\n",
        "Déclarez ici la matrice At et le vecteur bt correspondant à la fonctionnelle à\n",
        "minimiser. La matrice At doit être déclarée comme un tableau numpy. Le vecteur\n",
        "bt doit être déclaré comme un tableau numpy à N lignes et une colonne.\n",
        "\"\"\"\n",
        "N=6 #nb de villes\n",
        "X=np.array([[50],[-42],[60],[-100],[74],[74]])\n",
        "Y=np.array([[46],[-72],[-36],[92],[-66],[24]])\n",
        "At=np.array([[2*N,0],[0,2*N]])\n",
        "bt=np.array([[-2*np.sum(X)],[-2*np.sum(Y)]])\n",
        "c=np.sum(X**2)+np.sum(Y**2)\n",
        "\n",
        "def GradFonc(A,b,vec):\n",
        "    \"\"\"\n",
        "    Calcul du vecteur gradient d'une fonction quadratique de N variables réelles\n",
        "    et à valeur réelle définie par :\n",
        "    f(x_1,...,x_N)=(1/2)*x^T.A.x - x^T.b + c\n",
        "    où x^T représente la transposée du vecteur x.\n",
        "   \n",
        "   \n",
        "    Entrées :\n",
        "        * A : tableau numpy de dimension (N,N).\n",
        "        * b : tableau numpy de dimension (N,1).\n",
        "        * xx : tableau numpy de dimension (N,1).\n",
        "       \n",
        "    Sorties :\n",
        "        * tableau numpy de dimension (N,1).\n",
        "    \"\"\"\n",
        "    vec=np.array(vec)\n",
        "    return (A.dot(vec)-b)\n",
        "\n",
        "def GradConj(x0=np.array([[0],[0]]),A=At,b=bt,gradient=GradFonc,tol=1.0e-10,itermax=1000):\n",
        "    \"\"\"\n",
        "    Algorithme de minimisation du gradient conjugué pour une fonction quadratique\n",
        "    de N variables réelles et à valeur réelle définie par :\n",
        "    f(x_1,...,x_N)=(1/2)*x^T.A.x - x^T.b + c\n",
        "    où x^T représente la transposée du vecteur x.\n",
        "\n",
        "    Entrées :\n",
        "        * x0 : tableau numpy de dimension (N,1) ; vecteur d'initialisation de\n",
        "                l'algorithme.\n",
        "        * A : tableau numpy de dimension (N,N) ; élément de définition de la\n",
        "                fonction quadratique f.\n",
        "        * b : tableau numpy de dimension (N,1) ; élément de définition de la\n",
        "                fonction quadratique f.\n",
        "        * gradient : fonction python (GradFonc par défaut) calculant le vecteur\n",
        "            gradient de la fonction f.\n",
        "        * tol : réel (1.0e-10 par défaut); valeur du critère d'arrêt de\n",
        "                l'algorithme.\n",
        "        * itermax : entier (1000 par défaut) ; nombre d'itérations maximal de\n",
        "                l'algorithme.\n",
        "       \n",
        "    Sorties :\n",
        "        * liste python comportant toutes les solutions x_k issues de\n",
        "            l'algorithme.\n",
        "    \"\"\"\n",
        "    #***** Initialisation *****    \n",
        "    k=0\n",
        "    xx=list([x0])\n",
        "    itermax=1000\n",
        "    tol=1.0e-10\n",
        "    dir=-gradient(A,b,xx[-1])\n",
        "    residu=[np.linalg.norm(gradient(A,b,xx[-1]),2)]\n",
        "    while (k<=itermax and residu[-1]>=tol):\n",
        "      #calcul du pas \n",
        "      rho=-np.vdot(gradient(A,b,xx[-1]),dir)/np.vdot(A.dot(dir).T,dir) #-np.vdot(gradient(A,b,xx[-1]),np.vdot(np.dot(A,dir),dir)) \n",
        "      \n",
        "      # nouveau vecteur x(k+1)\n",
        "      xx.append(xx[-1]+rho*dir)\n",
        "\n",
        "      # nouvelle direction de descente d(x+1)\n",
        "      beta= np.vdot(A.dot(gradient(A,b,xx[-1])).T,dir)/np.vdot(A.dot(dir).T,dir)\n",
        "      dir=-gradient(A,b,xx[-1]) + beta*dir\n",
        "\n",
        "      # Calcul du residu\n",
        "      residu.append(np.linalg.norm(gradient(A,b,xx[-1]),2))\n",
        "      print(residu[-1])\n",
        "      # nouvelle itération\n",
        "      k=k+1\n",
        "\n",
        "      return xx,residu\n",
        "\n",
        "pos,res=GradConj()\n",
        "plt.figure(1)\n",
        "plt.scatter(X,Y,label=\"Ville\")\n",
        "#plt.scatter(pos[-1][0],pos[-1][1],label=\"Hôpital\")\n",
        "plt.plot(np.asarray(pos)[-1,0],np.asarray(pos)[-1,1],\"o\",label=\"Position - Hôpital\",c='red')\n",
        "for x,y in zip(X,Y):\n",
        "    # this method is called for each point\n",
        "    plt.annotate(\"(\"+str(float(x))+\";\"+str(float(y))+\")\",(x,y),textcoords=\"offset points\",\\\n",
        "                 xytext=(0,10),ha='center')\n",
        "plt.annotate(\"(\"+str(float(pos[-1][0]))+\";\"+str(float(pos[-1][1]))+\")\",(pos[-1][0],pos[-1][1]),textcoords=\"offset points\",\\\n",
        "              xytext=(0,10),ha='center')\n",
        "plt.title(\"Mapping des villes et position optimisée de l'hôpital\")\n",
        "plt.legend()\n",
        "plt.grid(ls=\"-\")\n",
        "\n",
        "plt.figure(2)\n",
        "plt.plot(res,\"o-\")\n",
        "plt.title(\"Étude de convergence\")\n",
        "plt.xlabel(\"Itération\")\n",
        "plt.ylabel(\"Résidu\")\n"
      ],
      "execution_count": 222,
      "outputs": [
        {
          "output_type": "stream",
          "text": [
            "0.0\n"
          ],
          "name": "stdout"
        },
        {
          "output_type": "execute_result",
          "data": {
            "text/plain": [
              "Text(0, 0.5, 'Résidu')"
            ]
          },
          "metadata": {
            "tags": []
          },
          "execution_count": 222
        },
        {
          "output_type": "display_data",
          "data": {
            "image/png": "[encoded data removed]",
            "text/plain": [
              "<Figure size 432x288 with 1 Axes>"
            ]
          },
          "metadata": {
            "tags": [],
            "needs_background": "light"
          }
        },
        {
          "output_type": "display_data",
          "data": {
            "image/png": "[encoded data removed]",
            "text/plain": [
              "<Figure size 432x288 with 1 Axes>"
            ]
          },
          "metadata": {
            "tags": [],
            "needs_background": "light"
          }
        }
      ]
    }
  ]
}